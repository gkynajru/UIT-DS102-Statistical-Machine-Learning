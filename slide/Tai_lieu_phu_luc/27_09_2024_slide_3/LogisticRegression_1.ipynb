{
 "cells": [
  {
   "cell_type": "code",
   "execution_count": 1,
   "metadata": {},
   "outputs": [],
   "source": [
    "import numpy as np"
   ]
  },
  {
   "cell_type": "code",
   "execution_count": 2,
   "metadata": {},
   "outputs": [],
   "source": [
    "s_inp = \"\"\".5 0 2.75 1\n",
    ".75 0 3 0\n",
    "1 0 3.25 1\n",
    "1.25 0 3.5 0\n",
    "1.5 0 4 1\n",
    "1.75 0 4.25 1\n",
    "1.75 1 4.5 1\n",
    "2 0 4.75 1\n",
    "2.25 1 5 1\n",
    "2.5 0 5.5 1\"\"\"\n",
    "\n",
    "XX = []\n",
    "yy = []"
   ]
  },
  {
   "cell_type": "code",
   "execution_count": 3,
   "metadata": {},
   "outputs": [],
   "source": [
    "for line in s_inp.split('\\n'):\n",
    "    line_spit = line.split(' ')\n",
    "    XX.append(float(line_spit[0])); XX.append(float(line_spit[2]))\n",
    "    yy.append(int(line_spit[1])); yy.append(int(line_spit[3]))"
   ]
  },
  {
   "cell_type": "code",
   "execution_count": 4,
   "metadata": {},
   "outputs": [],
   "source": [
    "import statsmodels.api as sm\n",
    "import pandas as pd\n",
    "import numpy as np\n",
    "import matplotlib.pyplot as plt\n",
    "from sklearn.linear_model import LogisticRegression\n",
    "from sklearn.metrics import accuracy_score\n",
    "import scipy.stats as stats\n",
    "import sklearn"
   ]
  },
  {
   "cell_type": "code",
   "execution_count": 5,
   "metadata": {},
   "outputs": [],
   "source": [
    "df = pd.DataFrame({'X': XX, 'y': yy})"
   ]
  },
  {
   "cell_type": "code",
   "execution_count": 6,
   "metadata": {},
   "outputs": [],
   "source": [
    "admitted = df[df['y'] == 1]\n",
    "not_admitted = df[df['y'] == 0]"
   ]
  },
  {
   "cell_type": "code",
   "execution_count": 27,
   "metadata": {},
   "outputs": [
    {
     "data": {
      "image/png": "[encoded data removed]",
      "text/plain": [
       "<Figure size 432x288 with 1 Axes>"
      ]
     },
     "metadata": {
      "needs_background": "light"
     },
     "output_type": "display_data"
    }
   ],
   "source": [
    "plt.scatter(admitted.iloc[:, 0], admitted.iloc[:, 1], s=10, label='Pass')\n",
    "plt.scatter(not_admitted.iloc[:, 0], not_admitted.iloc[:, 1], s=10, label='Not pass')\n",
    "plt.plot([2.7100858082019217]*11, [i/10 for i in range(0, 11)], 'yellow')\n",
    "plt.legend()\n",
    "plt.show()"
   ]
  },
  {
   "cell_type": "code",
   "execution_count": 8,
   "metadata": {},
   "outputs": [],
   "source": [
    "X_ = np.c_[np.ones((df['X'].shape[0], 1)), df['X']]\n",
    "theta = np.zeros((X_.shape[1], 1))"
   ]
  },
  {
   "cell_type": "code",
   "execution_count": 16,
   "metadata": {},
   "outputs": [
    {
     "name": "stdout",
     "output_type": "stream",
     "text": [
      "Parameters of the model =  [[-4.07771763  1.50464521]]\n"
     ]
    }
   ],
   "source": [
    "logit_model = LogisticRegression(fit_intercept = False, C = 1e9)\n",
    "logit_model.fit(X_, df['y'])\n",
    "predicted_classes = logit_model.predict(X_)\n",
    "accuracy = accuracy_score(df['y'], predicted_classes)\n",
    "parameters = logit_model.coef_\n",
    "print('Parameters of the model = ', parameters)"
   ]
  },
  {
   "cell_type": "code",
   "execution_count": null,
   "metadata": {},
   "outputs": [],
   "source": [
    "X_star=np.array([[1, 4.1]])\n",
    "y_pr_star=logit_model.predict_proba(X_star)\n",
    "print('Probability of passing = ', y_pr_star[0, 1])"
   ]
  },
  {
   "cell_type": "code",
   "execution_count": 19,
   "metadata": {},
   "outputs": [
    {
     "data": {
      "text/plain": [
       "2.7100858082019217"
      ]
     },
     "execution_count": 19,
     "metadata": {},
     "output_type": "execute_result"
    }
   ],
   "source": [
    "4.07771763/1.50464521"
   ]
  },
  {
   "cell_type": "code",
   "execution_count": null,
   "metadata": {},
   "outputs": [],
   "source": []
  }
 ],
 "metadata": {
  "kernelspec": {
   "display_name": "Python 3",
   "language": "python",
   "name": "python3"
  },
  "language_info": {
   "codemirror_mode": {
    "name": "ipython",
    "version": 3
   },
   "file_extension": ".py",
   "mimetype": "text/x-python",
   "name": "python",
   "nbconvert_exporter": "python",
   "pygments_lexer": "ipython3",
   "version": "3.8.8"
  }
 },
 "nbformat": 4,
 "nbformat_minor": 4
}
