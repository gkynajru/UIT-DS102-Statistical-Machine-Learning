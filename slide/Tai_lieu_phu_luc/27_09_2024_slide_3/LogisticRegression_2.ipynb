{
 "cells": [
  {
   "cell_type": "code",
   "execution_count": null,
   "metadata": {},
   "outputs": [],
   "source": [
    "import numpy as np"
   ]
  },
  {
   "cell_type": "code",
   "execution_count": null,
   "metadata": {},
   "outputs": [],
   "source": [
    "s_inp = \"\"\".5 0 2.75 1\n",
    ".75 0 3 0\n",
    "1 0 3.25 1\n",
    "1.25 0 3.5 0\n",
    "1.5 0 4 1\n",
    "1.75 0 4.25 1\n",
    "1.75 1 4.5 1\n",
    "2 0 4.75 1\n",
    "2.25 1 5 1\n",
    "2.5 0 5.5 1\"\"\"\n",
    "\n",
    "X = []\n",
    "y = []"
   ]
  },
  {
   "cell_type": "code",
   "execution_count": null,
   "metadata": {},
   "outputs": [],
   "source": [
    "for line in s_inp.split('\\n'):\n",
    "    line_spit = line.split(' ')\n",
    "    X.append(float(line_spit[0])); X.append(float(line_spit[2]))\n",
    "    y.append(int(line_spit[1])); y.append(int(line_spit[3]))"
   ]
  },
  {
   "cell_type": "code",
   "execution_count": null,
   "metadata": {},
   "outputs": [],
   "source": [
    "import statsmodels.api as sm\n",
    "import pandas as pd\n",
    "import numpy as np\n",
    "import matplotlib.pyplot as plt\n",
    "from sklearn.linear_model import LogisticRegression\n",
    "from sklearn.metrics import accuracy_score\n",
    "import scipy.stats as stats"
   ]
  },
  {
   "cell_type": "code",
   "execution_count": null,
   "metadata": {},
   "outputs": [],
   "source": [
    "df = pd.DataFrame({'X': X, 'y': y})"
   ]
  },
  {
   "cell_type": "code",
   "execution_count": null,
   "metadata": {},
   "outputs": [],
   "source": [
    "X=df.iloc[:, 1]\n",
    "y=df.iloc[:, 0]\n",
    "\n",
    "admitted = df.loc[y == 1]\n",
    "not_admitted = df.loc[y == 0]"
   ]
  },
  {
   "cell_type": "code",
   "execution_count": null,
   "metadata": {},
   "outputs": [],
   "source": [
    "plt.scatter(admitted.iloc[:, 1], admitted.iloc[:, 0], s=10, label='Pass')\n",
    "plt.scatter(not_admitted.iloc[:, 1], not_admitted.iloc[:, 0], s=10, label='Not pass')\n",
    "plt.legend()\n",
    "plt.show()"
   ]
  },
  {
   "cell_type": "code",
   "execution_count": null,
   "metadata": {},
   "outputs": [],
   "source": [
    "X_ = np.c_[np.ones((X.shape[0], 1)), X]\n",
    "theta = np.zeros((X_.shape[1], 1))"
   ]
  },
  {
   "cell_type": "code",
   "execution_count": null,
   "metadata": {},
   "outputs": [],
   "source": [
    "logit_model = LogisticRegression(fit_intercept = False, C = 1e9)\n",
    "logit_model.fit(X_, y)\n",
    "predicted_classes = logit_model.predict(X_)\n",
    "accuracy = accuracy_score(y, predicted_classes)\n",
    "parameters = logit_model.coef_\n",
    "print('Parameters of the model = ', parameters)"
   ]
  },
  {
   "cell_type": "code",
   "execution_count": null,
   "metadata": {},
   "outputs": [],
   "source": [
    "X_star=np.array([[1, 4.1]])\n",
    "y_pr_star=logit_model.predict_proba(X_star)\n",
    "print('Probability of passing = ', y_pr_star[0, 1])"
   ]
  },
  {
   "cell_type": "code",
   "execution_count": null,
   "metadata": {},
   "outputs": [],
   "source": [
    "X_new = np.linspace(0, 6, 1000).reshape(-1, 1)\n",
    "X_new = np.c_[np.ones((X_new.shape[0], 1)), X_new]\n",
    "\n",
    "y_proba = logit_model.predict_proba(X_new)\n",
    "plt.plot(X_new[:,1], y_proba[:, 1], \"g-\", label=\"\")\n",
    "\n",
    "plt.scatter(admitted.iloc[:, 1], admitted.iloc[:, 0], s=10, label='Pass')\n",
    "plt.scatter(not_admitted.iloc[:, 1], not_admitted.iloc[:, 0], s=10, label='Not pass')\n",
    "\n",
    "plt.plot([4.1, 4.1], [0, y_pr_star[0, 1]], marker = 'x')\n",
    "plt.plot([0.0, 4.1], [y_pr_star[0, 1], y_pr_star[0, 1]], marker = 'x')\n",
    "\n",
    "plt.legend()\n",
    "plt.show()"
   ]
  },
  {
   "cell_type": "code",
   "execution_count": null,
   "metadata": {},
   "outputs": [],
   "source": [
    "logit_mdl = sm.Logit(y, X_)\n",
    "result = logit_mdl.fit()\n",
    "print(result.params)"
   ]
  },
  {
   "cell_type": "code",
   "execution_count": null,
   "metadata": {},
   "outputs": [],
   "source": [
    "print(result.summary())"
   ]
  },
  {
   "cell_type": "code",
   "execution_count": null,
   "metadata": {},
   "outputs": [],
   "source": [
    "print((1 - stats.norm.cdf(np.abs(result.tvalues.to_numpy()))) * 2)"
   ]
  },
  {
   "cell_type": "code",
   "execution_count": null,
   "metadata": {},
   "outputs": [],
   "source": [
    "sT = stats.norm.ppf(1.0 - 0.05/2.0)\n",
    "theta_CI = sT * result.bse.to_numpy()\n",
    "print(result.params.to_numpy() - theta_CI, result.params.to_numpy() + theta_CI)"
   ]
  },
  {
   "cell_type": "code",
   "execution_count": null,
   "metadata": {},
   "outputs": [],
   "source": []
  }
 ],
 "metadata": {
  "kernelspec": {
   "display_name": "Python 3",
   "language": "python",
   "name": "python3"
  },
  "language_info": {
   "codemirror_mode": {
    "name": "ipython",
    "version": 3
   },
   "file_extension": ".py",
   "mimetype": "text/x-python",
   "name": "python",
   "nbconvert_exporter": "python",
   "pygments_lexer": "ipython3",
   "version": "3.8.8"
  }
 },
 "nbformat": 4,
 "nbformat_minor": 4
}
