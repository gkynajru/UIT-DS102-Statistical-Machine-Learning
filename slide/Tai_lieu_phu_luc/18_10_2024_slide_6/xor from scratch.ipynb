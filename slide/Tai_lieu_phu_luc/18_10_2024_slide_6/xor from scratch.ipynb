{
 "cells": [
  {
   "cell_type": "code",
   "execution_count": 1,
   "id": "b3d13643",
   "metadata": {},
   "outputs": [],
   "source": [
    "import numpy as np\n",
    "\n",
    "np.random.seed(1)"
   ]
  },
  {
   "cell_type": "code",
   "execution_count": 2,
   "id": "f4739af9",
   "metadata": {},
   "outputs": [],
   "source": [
    "def f(x):\n",
    "    return 1 / (1 + np.exp(-x))\n",
    "\n",
    "def f_derivative(x):\n",
    "    return f(x) * (1 - f(x))"
   ]
  },
  {
   "cell_type": "code",
   "execution_count": 3,
   "id": "a0e429ae",
   "metadata": {},
   "outputs": [],
   "source": [
    "N = 4\n",
    "x_1 = [0, 0, 1, 1]\n",
    "x_2 = [0, 1, 0, 1]\n",
    "y   = [0, 1, 1, 0]"
   ]
  },
  {
   "cell_type": "code",
   "execution_count": 4,
   "id": "61cca97e",
   "metadata": {},
   "outputs": [],
   "source": [
    "'''\n",
    "np.random.normal(0, 1): lấy một giá trị ngẫu nhiên từ phân phối chuẩn\n",
    "có giá trị trung bình là 0 và độ lệch chuẩn là 1\n",
    "'''\n",
    "\n",
    "w = {}\n",
    "dw = {}\n",
    "\n",
    "for j in range(1, 2 + 1): # chỉ số nơ-ron j của lớp thứ nhất\n",
    "    for k in range(0, 2 + 1): # chỉ k = 0 để chỉ bias\n",
    "        w[f'{j}{k}_1'] = np.random.normal(0, 1) # w_jk_r trong đó r = 1\n",
    "        dw[f'{j}{k}_1'] = 0\n",
    "    \n",
    "for k in range(0, 2 + 1): # chỉ k = 0 để chỉ bias\n",
    "    w[f'1{k}_2'] = np.random.normal(0, 1) # w_jk_r trong đó r = 2\n",
    "    dw[f'1{k}_2'] = 0"
   ]
  },
  {
   "cell_type": "code",
   "execution_count": 5,
   "id": "9f7577d9",
   "metadata": {},
   "outputs": [],
   "source": [
    "mu = 1 # tốc độc học\n",
    "epochs = 1000 # số lần lặp"
   ]
  },
  {
   "cell_type": "code",
   "execution_count": 6,
   "id": "1b160df1",
   "metadata": {},
   "outputs": [],
   "source": [
    "for _ in range(epochs):\n",
    "    for i in range(N):\n",
    "        # tính toán forward cho lớp ẩn thứ nhất\n",
    "        v_1_1 = w['10_1'] + x_1[i] * w['11_1'] + x_2[i] * w['12_1']\n",
    "        v_2_1 = w['20_1'] + x_1[i] * w['21_1'] + x_2[i] * w['22_1']\n",
    "        y_1_1 = f(v_1_1)\n",
    "        y_2_1 = f(v_2_1)\n",
    "        \n",
    "        # tính toán forward cho lớp đầu ra\n",
    "        v_1_2 = w['10_2'] + y_1_1 * w['11_2'] + y_2_1 * w['12_2']\n",
    "        y_1_2 = f(v_1_2)\n",
    "        \n",
    "        # tính toán backward cho lớp đầu ra\n",
    "        delta_1_2 = (y_1_2 - y[i]) * f_derivative(v_1_2)\n",
    "        \n",
    "        \n",
    "        # tính toán backward cho lớp ẩn thứ nhất\n",
    "        delta_1_1 = (delta_1_2 * w['11_2']) * f_derivative(v_1_1)\n",
    "        delta_2_1 = (delta_1_2 * w['12_2']) * f_derivative(v_2_1)\n",
    "        \n",
    "        # tính toán các cập nhật trọng số\n",
    "        dw['10_2'] += delta_1_2 * 1\n",
    "        dw['11_2'] += delta_1_2 * y_1_1\n",
    "        dw['12_2'] += delta_1_2 * y_2_1\n",
    "        \n",
    "        dw['10_1'] += delta_1_1 * 1\n",
    "        dw['11_1'] += delta_1_1 * x_1[i]\n",
    "        dw['12_1'] += delta_1_1 * x_2[i]\n",
    "        \n",
    "        dw['20_1'] += delta_2_1 * 1\n",
    "        dw['21_1'] += delta_2_1 * x_1[i]\n",
    "        dw['22_1'] += delta_2_1 * x_2[i]\n",
    "    \n",
    "    for j in range(1, 2 + 1): # chỉ số nơ-ron j của lớp thứ nhất\n",
    "        for k in range(0, 2 + 1): # chỉ k = 0 để chỉ bias\n",
    "            w[f'{j}{k}_1'] += -mu * dw[f'{j}{k}_1']\n",
    "            dw[f'{j}{k}_1'] = 0 # reset gradient, zero grad\n",
    "\n",
    "    for k in range(0, 2 + 1): # chỉ k = 0 để chỉ bias\n",
    "        w[f'1{k}_2'] += -mu * dw[f'1{k}_2']\n",
    "        dw[f'1{k}_2'] = 0"
   ]
  },
  {
   "cell_type": "code",
   "execution_count": 7,
   "id": "01864ae8",
   "metadata": {},
   "outputs": [
    {
     "name": "stdout",
     "output_type": "stream",
     "text": [
      "0 0 False\n",
      "0 1 True\n",
      "1 0 True\n",
      "1 1 False\n"
     ]
    }
   ],
   "source": [
    "# dự đoán\n",
    "for i in range(N):\n",
    "    # tính toán forward cho lớp ẩn thứ nhất\n",
    "    v_1_1 = w['10_1'] + x_1[i] * w['11_1'] + x_2[i] * w['12_1']\n",
    "    v_2_1 = w['20_1'] + x_1[i] * w['21_1'] + x_2[i] * w['22_1']\n",
    "    y_1_1 = f(v_1_1)\n",
    "    y_2_1 = f(v_2_1)\n",
    "\n",
    "    # tính toán forward cho lớp đầu ra\n",
    "    v_1_2 = w['10_2'] + y_1_1 * w['11_2'] + y_2_1 * w['12_2']    \n",
    "    y_1_2 = f(v_1_2)\n",
    "    \n",
    "    print(x_1[i], x_2[i], y_1_2 > 0.5)"
   ]
  }
 ],
 "metadata": {
  "kernelspec": {
   "display_name": "Python 3 (ipykernel)",
   "language": "python",
   "name": "python3"
  },
  "language_info": {
   "codemirror_mode": {
    "name": "ipython",
    "version": 3
   },
   "file_extension": ".py",
   "mimetype": "text/x-python",
   "name": "python",
   "nbconvert_exporter": "python",
   "pygments_lexer": "ipython3",
   "version": "3.12.4"
  }
 },
 "nbformat": 4,
 "nbformat_minor": 5
}
