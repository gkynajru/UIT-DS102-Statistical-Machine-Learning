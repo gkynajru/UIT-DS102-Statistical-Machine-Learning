{
 "cells": [
  {
   "cell_type": "markdown",
   "metadata": {},
   "source": [
    "## 1. Logistic Regression"
   ]
  },
  {
   "cell_type": "markdown",
   "metadata": {},
   "source": [
    "Hàm mục tiêu của Logistic Regression: $ \\hat{y} = \\sigma(x \\theta ^T)$\n",
    "\n",
    "Hàm mất mát: $L( \\theta )  = - \\frac{1}{m}  \\sum_{i=1}^{m} ( y^i log(\\hat{y} ^i) + (1-y^i) log(1- \\hat{y}^i)  )$\n",
    "\n",
    "Bộ dữ liệu áp dụng: Iris. Bộ này được cung cấp và hỗ trợ sẵn bởi thư viện sklearn. Dữ liệu huấn luyện cho bài toán phân lớp sẽ gồm 2 phần:\n",
    "\n",
    "X: các thuộc tính của dữ liệu. Có tổng cộng 4 thuộc tính gồm Sepal Length, Sepal Width, Petal Length, Petal Width.\n",
    "\n",
    "y: thuộc tính nhãn. Có 3 nhãn gồm Setosa, Versicolour, and Virginica"
   ]
  },
  {
   "cell_type": "code",
   "execution_count": 1,
   "metadata": {},
   "outputs": [],
   "source": [
    "from sklearn.datasets import load_iris # import the iris dataset\n",
    "import numpy as np # import numpy\n",
    "iris = load_iris() # load the iris dataset"
   ]
  },
  {
   "cell_type": "markdown",
   "metadata": {},
   "source": [
    "Trong bài này, chúng ta sẽ dùng thuộc tính Petal Width để phân loại xem loài hoa đang xét có phải là Virginica hay không \n",
    "\n",
    "=> phân lớp nhị phân với 2 nhãn: Virginica (1) và không phải Virginica (2)."
   ]
  },
  {
   "cell_type": "code",
   "execution_count": 2,
   "metadata": {},
   "outputs": [],
   "source": [
    "x = iris[\"data\"][:, 3:] # petal width\n",
    "y = (iris[\"target\"] == 2).astype(np.int_) # 1 if Iris-Virginica, else 0"
   ]
  },
  {
   "cell_type": "code",
   "execution_count": 3,
   "metadata": {},
   "outputs": [],
   "source": [
    "#Tạo dữ liệu dự đoán: sinh ra ngẫu nhiên 100 phần tử tương ứng với Petal Width trong khoảng giá trị từ 0 - 3 cm.\n",
    "X_new = np.linspace(0, 3, 1000).reshape(-1, 1)"
   ]
  },
  {
   "cell_type": "code",
   "execution_count": null,
   "metadata": {},
   "outputs": [],
   "source": []
  }
 ],
 "metadata": {
  "kernelspec": {
   "display_name": "Python 3",
   "language": "python",
   "name": "python3"
  },
  "language_info": {
   "codemirror_mode": {
    "name": "ipython",
    "version": 3
   },
   "file_extension": ".py",
   "mimetype": "text/x-python",
   "name": "python",
   "nbconvert_exporter": "python",
   "pygments_lexer": "ipython3",
   "version": "3.11.6"
  }
 },
 "nbformat": 4,
 "nbformat_minor": 2
}
