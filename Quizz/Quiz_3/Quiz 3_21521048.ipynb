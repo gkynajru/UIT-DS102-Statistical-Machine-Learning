{
 "cells": [
  {
   "cell_type": "markdown",
   "id": "9525024a-ee5f-4d90-a335-dcb85d81b362",
   "metadata": {},
   "source": [
    "Các bạn hoàn thành chỗ trống:\n",
    "\n",
    "* Mô hình Linear:\n",
    "    - $y = \\beta_1 + \\beta_2x + \\epsilon$\n",
    "    - Ta có: $\\frac{\\mathrm{d}y}{\\mathrm{d}x} = \\beta_2$\n",
    "    - Giải thích: Tăng/giảm $x$ dẫn đến $y$ tăng/giảm với tốc độ bằng $\\beta_2$\n",
    "\n",
    "\n",
    "* Mô hình Log-Linear:\n",
    "    - $\\ln y = \\beta_1 + \\beta_2x + \\epsilon$\n",
    "    - Ta có: $\\frac{\\mathrm{d}y}{\\mathrm{d}x} = \\frac{\\mathrm{d}}{\\mathrm{d}x}e^{\\ln y} = \\frac{\\mathrm{d}}{\\mathrm{d}x}e^{\\beta_1 + \\beta_2x + \\epsilon} = y\\beta_2 \\Rightarrow \\frac{\\mathrm{d}y/y}{\\mathrm{d}x} =\\beta_2$\n",
    "    - Giải thích: Tăng/giảm $x$ dẫn đến y tăng/giảm, cứ X thay đổi 1 đơn vị thì y thay đổi $\\beta_2$% đơn vị\n",
    "\n",
    "\n",
    "* Mô hình Linear-Log:\n",
    "    - $y = \\beta_1 + \\beta_2 \\ln x + \\epsilon$\n",
    "    - Ta có: $\\frac{\\mathrm{d}y}{\\mathrm{d}x} = \\frac{\\beta_2}{x} \\Rightarrow \\frac{\\mathrm{d}y}{\\mathrm{d}x/x} =\\beta_2$\n",
    "    - Giải thích: Tăng/giảm $x$ dẫn đến $y$ tăng/giảm với tốc độ giảm dần khi x tăng.\n",
    "\n",
    "* Mô hình Log-Log:\n",
    "    - $\\ln y = \\beta_1 + \\beta_2 \\ln x + \\epsilon$\n",
    "    - Ta có: $\\frac{\\mathrm{d}y}{\\mathrm{d}x} = \\frac{\\mathrm{d}}{\\mathrm{d}x}e^{\\ln y} = \\frac{y}{x}\\beta_2 \\Rightarrow \\frac{\\mathrm{d}y/y}{\\mathrm{d}x/x} =\\beta_2$\n",
    "    - Giải thích: Tăng/giảm $x$ dẫn đến y tăng/giảm theo tỉ lệ phần trăm với hệ số co giãn $\\beta_2$"
   ]
  }
 ],
 "metadata": {
  "kernelspec": {
   "display_name": "Python 3 (ipykernel)",
   "language": "python",
   "name": "python3"
  },
  "language_info": {
   "codemirror_mode": {
    "name": "ipython",
    "version": 3
   },
   "file_extension": ".py",
   "mimetype": "text/x-python",
   "name": "python",
   "nbconvert_exporter": "python",
   "pygments_lexer": "ipython3",
   "version": "3.12.4"
  }
 },
 "nbformat": 4,
 "nbformat_minor": 5
}
